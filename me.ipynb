{
  "nbformat": 4,
  "nbformat_minor": 0,
  "metadata": {
    "colab": {
      "name": "Untitled0.ipynb",
      "provenance": [],
      "authorship_tag": "ABX9TyNQ5oqHf42bISAPL5kT9kYN",
      "include_colab_link": true
    },
    "kernelspec": {
      "name": "python3",
      "display_name": "Python 3"
    }
  },
  "cells": [
    {
      "cell_type": "markdown",
      "metadata": {
        "id": "view-in-github",
        "colab_type": "text"
      },
      "source": [
        "<a href=\"https://colab.research.google.com/github/gokhanturer/pythoninclass/blob/main/me.ipynb\" target=\"_parent\"><img src=\"https://colab.research.google.com/assets/colab-badge.svg\" alt=\"Open In Colab\"/></a>"
      ]
    },
    {
      "cell_type": "code",
      "metadata": {
        "colab": {
          "base_uri": "https://localhost:8080/"
        },
        "id": "JVx4o18LVVK5",
        "outputId": "dabd06d5-4fed-4612-8cac-4af7e78958fa"
      },
      "source": [
        "fruits = [\"apple\", \"banana\", \"cherry\"]\n",
        "fruits.remove(\"cherry\")\n",
        "fruits"
      ],
      "execution_count": null,
      "outputs": [
        {
          "output_type": "execute_result",
          "data": {
            "text/plain": [
              "['apple', 'banana']"
            ]
          },
          "metadata": {
            "tags": []
          },
          "execution_count": 1
        }
      ]
    },
    {
      "cell_type": "code",
      "metadata": {
        "id": "v1SM1W84SgUP"
      },
      "source": [
        ""
      ],
      "execution_count": null,
      "outputs": []
    },
    {
      "cell_type": "code",
      "metadata": {
        "colab": {
          "base_uri": "https://localhost:8080/"
        },
        "id": "fkdK8sGzV8vV",
        "outputId": "6d99cb99-5454-4be3-dab3-af3ccd0774c4"
      },
      "source": [
        "\n",
        "fruits.pop(2)\n",
        "fruits"
      ],
      "execution_count": null,
      "outputs": [
        {
          "output_type": "execute_result",
          "data": {
            "text/plain": [
              "['apple', 'banana']"
            ]
          },
          "metadata": {
            "tags": []
          },
          "execution_count": 2
        }
      ]
    },
    {
      "cell_type": "code",
      "metadata": {
        "colab": {
          "base_uri": "https://localhost:8080/"
        },
        "id": "SQQoJ6kFWIYf",
        "outputId": "e7df7bb5-411b-4441-8343-8a399c76a84e"
      },
      "source": [
        "abbas = [\"apple\", \"banana\", \"cherry\"]\n",
        "abbas.append(\"banana\")\n",
        "abbas.insert(2,\"cherry\")\n",
        "def plural(fruits):\n",
        "\n",
        "        fruitnew = []\n",
        "\n",
        "        for i in range(len(fruits)) :\n",
        "          if fruits.count(fruits[i]) > 1:\n",
        "             fruitnew.append(fruits[i] + \"s\") \n",
        "          else:\n",
        "             fruitnew.append(fruits[i])\n",
        "\n",
        "    \n",
        "\n",
        "        return (set(fruitnew))\n",
        "\n",
        "\n",
        "plural(abbas)"
      ],
      "execution_count": null,
      "outputs": [
        {
          "output_type": "execute_result",
          "data": {
            "text/plain": [
              "{'apple', 'bananas', 'cherrys'}"
            ]
          },
          "metadata": {
            "tags": []
          },
          "execution_count": 25
        }
      ]
    },
    {
      "cell_type": "code",
      "metadata": {
        "id": "6ca0RlLQhzl4",
        "colab": {
          "base_uri": "https://localhost:8080/"
        },
        "outputId": "099ccfeb-9a8a-493d-c6db-156debc08cb9"
      },
      "source": [
        "\n",
        "\n",
        "\n",
        "listem = [2,4,76,9,34,5]\n",
        "\n",
        "yenilistem = []\n",
        "\n",
        "for i in listem:\n",
        "    if i %2 == 0:\n",
        "        yenilistem.append(i)\n",
        "yenilistem.sort()   \n",
        "print(yenilistem)\n",
        "listem\n"
      ],
      "execution_count": null,
      "outputs": [
        {
          "output_type": "stream",
          "text": [
            "[2, 4, 34, 76]\n"
          ],
          "name": "stdout"
        },
        {
          "output_type": "execute_result",
          "data": {
            "text/plain": [
              "[2, 4, 76, 9, 34, 5]"
            ]
          },
          "metadata": {
            "tags": []
          },
          "execution_count": 19
        }
      ]
    },
    {
      "cell_type": "code",
      "metadata": {
        "colab": {
          "base_uri": "https://localhost:8080/"
        },
        "id": "fRrUshEfmE_s",
        "outputId": "3e7e4efe-bb27-4c07-cdb1-288f883dc777"
      },
      "source": [
        "\n",
        "listem = [2,4,76,9,34,5]\n",
        "\n",
        "yenilistem = []\n",
        "final = []\n",
        "\n",
        "for i in listem:\n",
        "    if i %2 != 0:\n",
        "        yenilistem.append(i)\n",
        "yenilistem.sort()\n",
        "print(yenilistem)\n",
        "\n",
        "for i in listem:\n",
        "  if i %2==0:\n",
        "    final.append(i)\n",
        "  else:\n",
        "    final.append(yenilistem[0])\n",
        "    yenilistem.pop(0)\n",
        "final\n",
        "    \n",
        "\n",
        "\n"
      ],
      "execution_count": null,
      "outputs": [
        {
          "output_type": "stream",
          "text": [
            "[5, 9]\n"
          ],
          "name": "stdout"
        },
        {
          "output_type": "execute_result",
          "data": {
            "text/plain": [
              "[2, 4, 76, 5, 34, 9]"
            ]
          },
          "metadata": {
            "tags": []
          },
          "execution_count": 2
        }
      ]
    },
    {
      "cell_type": "code",
      "metadata": {
        "colab": {
          "base_uri": "https://localhost:8080/"
        },
        "id": "ozq_HbeSo301",
        "outputId": "a2f38527-9b46-453e-8e74-80785e454c2f"
      },
      "source": [
        "\n",
        "listem = [2,4,76,9,34,5]\n",
        "\n",
        "yenilistem = []\n",
        "final = []\n",
        "count = 0\n",
        "\n",
        "for i in listem:\n",
        "    if i %2 != 0:\n",
        "        yenilistem.append(i)\n",
        "yenilistem.sort()\n",
        "print(yenilistem)\n",
        "\n",
        "for i in listem:\n",
        "  if i %2==0:\n",
        "    final.append(i)\n",
        "  else:\n",
        "    final.append(yenilistem[count])\n",
        "    count += 1\n",
        "final"
      ],
      "execution_count": null,
      "outputs": [
        {
          "output_type": "stream",
          "text": [
            "[5, 9]\n"
          ],
          "name": "stdout"
        },
        {
          "output_type": "execute_result",
          "data": {
            "text/plain": [
              "[2, 4, 76, 5, 34, 9]"
            ]
          },
          "metadata": {
            "tags": []
          },
          "execution_count": 3
        }
      ]
    },
    {
      "cell_type": "code",
      "metadata": {
        "id": "w08SCzjWrx9v"
      },
      "source": [
        "def mgt(listem):\n",
        "  listem = [2,4,76,9,34,5]\n",
        "  for i in listem:\n",
        "    if %2 != 0:\n",
        "  return  (i)\n",
        "\n",
        "listem = [2,4,76,9,34,5]\n",
        "\n",
        "yenilistem = []\n",
        "\n",
        "for i in listem:\n",
        "    if i %2 != 0:\n",
        "        yenilistem.append(i)\n",
        "yenilistem.sort()   \n",
        "print(yenilistem)\n",
        "listem.append(yenilistem)\n",
        "listem"
      ],
      "execution_count": null,
      "outputs": []
    },
    {
      "cell_type": "code",
      "metadata": {
        "id": "ViAtZ58FaZYH"
      },
      "source": [
        ""
      ],
      "execution_count": null,
      "outputs": []
    },
    {
      "cell_type": "code",
      "metadata": {
        "colab": {
          "base_uri": "https://localhost:8080/",
          "height": 130
        },
        "id": "-wThm5C2tLLi",
        "outputId": "9791a582-60ee-425c-925a-21887d98789d"
      },
      "source": [
        "def mgt(listem):\n",
        "  listem = [2,4,76,9,34,5]\n",
        "  for i in listem:\n",
        "    if %2 != 0:\n",
        "  return i"
      ],
      "execution_count": null,
      "outputs": [
        {
          "output_type": "error",
          "ename": "SyntaxError",
          "evalue": "ignored",
          "traceback": [
            "\u001b[0;36m  File \u001b[0;32m\"<ipython-input-12-bb7af3b5bf91>\"\u001b[0;36m, line \u001b[0;32m4\u001b[0m\n\u001b[0;31m    if %2 != 0:\u001b[0m\n\u001b[0m       ^\u001b[0m\n\u001b[0;31mSyntaxError\u001b[0m\u001b[0;31m:\u001b[0m invalid syntax\n"
          ]
        }
      ]
    },
    {
      "cell_type": "code",
      "metadata": {
        "colab": {
          "base_uri": "https://localhost:8080/",
          "height": 232
        },
        "id": "5t2j-sU0qYLQ",
        "outputId": "14023d0c-53cd-437e-fb5b-616b1f4e4883"
      },
      "source": [
        "listem = [2,4,76,9,34,5]\n",
        " \n",
        "yenilistem = []\n",
        " \n",
        "for i in listem:\n",
        "    if i %2 == 0:\n",
        "        listem.append(i)\n",
        "yenilistem"
      ],
      "execution_count": null,
      "outputs": [
        {
          "output_type": "error",
          "ename": "KeyboardInterrupt",
          "evalue": "ignored",
          "traceback": [
            "\u001b[0;31m---------------------------------------------------------------------------\u001b[0m",
            "\u001b[0;31mKeyboardInterrupt\u001b[0m                         Traceback (most recent call last)",
            "\u001b[0;32m<ipython-input-15-eea99a91f837>\u001b[0m in \u001b[0;36m<module>\u001b[0;34m()\u001b[0m\n\u001b[1;32m      3\u001b[0m \u001b[0myenilistem\u001b[0m \u001b[0;34m=\u001b[0m \u001b[0;34m[\u001b[0m\u001b[0;34m]\u001b[0m\u001b[0;34m\u001b[0m\u001b[0;34m\u001b[0m\u001b[0m\n\u001b[1;32m      4\u001b[0m \u001b[0;34m\u001b[0m\u001b[0m\n\u001b[0;32m----> 5\u001b[0;31m \u001b[0;32mfor\u001b[0m \u001b[0mi\u001b[0m \u001b[0;32min\u001b[0m \u001b[0mlistem\u001b[0m\u001b[0;34m:\u001b[0m\u001b[0;34m\u001b[0m\u001b[0;34m\u001b[0m\u001b[0m\n\u001b[0m\u001b[1;32m      6\u001b[0m     \u001b[0;32mif\u001b[0m \u001b[0mi\u001b[0m \u001b[0;34m%\u001b[0m\u001b[0;36m2\u001b[0m \u001b[0;34m==\u001b[0m \u001b[0;36m0\u001b[0m\u001b[0;34m:\u001b[0m\u001b[0;34m\u001b[0m\u001b[0;34m\u001b[0m\u001b[0m\n\u001b[1;32m      7\u001b[0m         \u001b[0mlistem\u001b[0m\u001b[0;34m.\u001b[0m\u001b[0mappend\u001b[0m\u001b[0;34m(\u001b[0m\u001b[0mi\u001b[0m\u001b[0;34m)\u001b[0m\u001b[0;34m\u001b[0m\u001b[0;34m\u001b[0m\u001b[0m\n",
            "\u001b[0;31mKeyboardInterrupt\u001b[0m: "
          ]
        }
      ]
    },
    {
      "cell_type": "code",
      "metadata": {
        "id": "yG54_zFQSlW3"
      },
      "source": [
        "import numpy as np"
      ],
      "execution_count": null,
      "outputs": []
    },
    {
      "cell_type": "code",
      "metadata": {
        "id": "E6PehjMgU0Ky"
      },
      "source": [
        "a = np.array([[3,1], [1,2]])"
      ],
      "execution_count": null,
      "outputs": []
    },
    {
      "cell_type": "code",
      "metadata": {
        "id": "vGPwyoH7VUS3"
      },
      "source": [
        "b = np.array([9,8])"
      ],
      "execution_count": null,
      "outputs": []
    },
    {
      "cell_type": "code",
      "metadata": {
        "id": "k7KyP-zTVkyl"
      },
      "source": [
        ""
      ],
      "execution_count": null,
      "outputs": []
    },
    {
      "cell_type": "code",
      "metadata": {
        "colab": {
          "base_uri": "https://localhost:8080/"
        },
        "id": "UBNT9m0IVoni",
        "outputId": "08de55a2-3563-44cc-e499-4c477c70d0fe"
      },
      "source": [
        "np.linalg.solve(a,b)"
      ],
      "execution_count": null,
      "outputs": [
        {
          "output_type": "execute_result",
          "data": {
            "text/plain": [
              "array([2., 3.])"
            ]
          },
          "metadata": {
            "tags": []
          },
          "execution_count": 7
        }
      ]
    },
    {
      "cell_type": "code",
      "metadata": {
        "id": "eGWpEaleW-Au"
      },
      "source": [
        "PANDAS"
      ],
      "execution_count": null,
      "outputs": []
    },
    {
      "cell_type": "code",
      "metadata": {
        "id": "gw_lXHecXC7F"
      },
      "source": [
        "import numpy as np\n",
        "import pandas as pd"
      ],
      "execution_count": null,
      "outputs": []
    },
    {
      "cell_type": "code",
      "metadata": {
        "colab": {
          "base_uri": "https://localhost:8080/"
        },
        "id": "tOAnKzgMZGBH",
        "outputId": "0f4c04f6-7278-4a2e-d04d-ba5481b53c37"
      },
      "source": [
        "pd.Series([10, 88, 3, 4, 5])"
      ],
      "execution_count": null,
      "outputs": [
        {
          "output_type": "execute_result",
          "data": {
            "text/plain": [
              "0    10\n",
              "1    88\n",
              "2     3\n",
              "3     4\n",
              "4     5\n",
              "dtype: int64"
            ]
          },
          "metadata": {
            "tags": []
          },
          "execution_count": 10
        }
      ]
    },
    {
      "cell_type": "code",
      "metadata": {
        "id": "peCzCQykZ5lR"
      },
      "source": [
        ""
      ],
      "execution_count": null,
      "outputs": []
    },
    {
      "cell_type": "markdown",
      "metadata": {
        "id": "PulDUigWXABo"
      },
      "source": [
        ""
      ]
    }
  ]
}