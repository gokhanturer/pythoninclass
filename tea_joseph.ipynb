{
  "nbformat": 4,
  "nbformat_minor": 0,
  "metadata": {
    "colab": {
      "name": "Untitled0.ipynb",
      "provenance": [],
      "authorship_tag": "ABX9TyN/7bEbEAX++jiKjejLA71J",
      "include_colab_link": true
    },
    "kernelspec": {
      "name": "python3",
      "display_name": "Python 3"
    }
  },
  "cells": [
    {
      "cell_type": "markdown",
      "metadata": {
        "id": "view-in-github",
        "colab_type": "text"
      },
      "source": [
        "<a href=\"https://colab.research.google.com/github/gokhanturer/pythoninclass/blob/main/tea_joseph.ipynb\" target=\"_parent\"><img src=\"https://colab.research.google.com/assets/colab-badge.svg\" alt=\"Open In Colab\"/></a>"
      ]
    },
    {
      "cell_type": "code",
      "metadata": {
        "colab": {
          "base_uri": "https://localhost:8080/"
        },
        "id": "M9KE-FdYEig4",
        "outputId": "23ae7f4d-10bc-40c8-fe89-d5605e8fe248"
      },
      "source": [
        "!pip install -q streamlit"
      ],
      "execution_count": null,
      "outputs": [
        {
          "output_type": "stream",
          "text": [
            "\u001b[K     |████████████████████████████████| 8.2MB 7.9MB/s \n",
            "\u001b[K     |████████████████████████████████| 112kB 41.1MB/s \n",
            "\u001b[K     |████████████████████████████████| 163kB 44.8MB/s \n",
            "\u001b[K     |████████████████████████████████| 4.2MB 37.8MB/s \n",
            "\u001b[K     |████████████████████████████████| 81kB 8.8MB/s \n",
            "\u001b[K     |████████████████████████████████| 71kB 8.0MB/s \n",
            "\u001b[K     |████████████████████████████████| 122kB 41.4MB/s \n",
            "\u001b[?25h  Building wheel for blinker (setup.py) ... \u001b[?25l\u001b[?25hdone\n",
            "\u001b[31mERROR: google-colab 1.0.0 has requirement ipykernel~=4.10, but you'll have ipykernel 5.5.4 which is incompatible.\u001b[0m\n"
          ],
          "name": "stdout"
        }
      ]
    },
    {
      "cell_type": "code",
      "metadata": {
        "colab": {
          "base_uri": "https://localhost:8080/"
        },
        "id": "bpUIXj38EspX",
        "outputId": "c5d540a4-8aba-42a6-88cc-8ef10554df96"
      },
      "source": [
        "%%writefile app.py\n",
        "import streamlit as st\n",
        "import datetime"
      ],
      "execution_count": null,
      "outputs": [
        {
          "output_type": "stream",
          "text": [
            "Overwriting app.py\n"
          ],
          "name": "stdout"
        }
      ]
    },
    {
      "cell_type": "code",
      "metadata": {
        "id": "F68a7mPOEurL"
      },
      "source": [
        "st.title(\"Bu benim ilk Aplikasyonum\")\n",
        "st.write(\"Buradaki formu doldurmanız gerekiyor.\")\n",
        "user_id = st.text_input(\"ID\", value=\"Your ID\", max_chars=7)\n",
        "info = st.text_area(\"Share some information about you\", \"Put information here\",\n",
        "                    help='You can write about your hobbies or family')\n",
        "age = st.number_input(\"Age\", min_value=18, max_value=100, step=1)"
      ],
      "execution_count": null,
      "outputs": []
    },
    {
      "cell_type": "code",
      "metadata": {
        "colab": {
          "base_uri": "https://localhost:8080/"
        },
        "id": "j-mViC3PE8lD",
        "outputId": "ef0a9876-9ee0-4054-952f-1a0ea14d1f3a"
      },
      "source": [
        "!wget https://bin.equinox.io/c/4VmDzA7iaHb/ngrok-stable-linux-amd64.zip"
      ],
      "execution_count": null,
      "outputs": [
        {
          "output_type": "stream",
          "text": [
            "--2021-05-11 20:18:10--  https://bin.equinox.io/c/4VmDzA7iaHb/ngrok-stable-linux-amd64.zip\n",
            "Resolving bin.equinox.io (bin.equinox.io)... 54.209.238.187, 34.192.46.56, 54.204.235.80, ...\n",
            "Connecting to bin.equinox.io (bin.equinox.io)|54.209.238.187|:443... connected.\n",
            "HTTP request sent, awaiting response... 200 OK\n",
            "Length: 13832437 (13M) [application/octet-stream]\n",
            "Saving to: ‘ngrok-stable-linux-amd64.zip’\n",
            "\n",
            "ngrok-stable-linux- 100%[===================>]  13.19M  17.7MB/s    in 0.7s    \n",
            "\n",
            "2021-05-11 20:18:11 (17.7 MB/s) - ‘ngrok-stable-linux-amd64.zip’ saved [13832437/13832437]\n",
            "\n"
          ],
          "name": "stdout"
        }
      ]
    },
    {
      "cell_type": "code",
      "metadata": {
        "colab": {
          "base_uri": "https://localhost:8080/"
        },
        "id": "nn9aQ-KBFH41",
        "outputId": "36e9b840-9500-4c9d-c003-6184618f1180"
      },
      "source": [
        "!unzip ngrok-stable-linux-amd64.zip"
      ],
      "execution_count": null,
      "outputs": [
        {
          "output_type": "stream",
          "text": [
            "Archive:  ngrok-stable-linux-amd64.zip\n",
            "  inflating: ngrok                   \n"
          ],
          "name": "stdout"
        }
      ]
    },
    {
      "cell_type": "code",
      "metadata": {
        "id": "n6kNV_04FSBg"
      },
      "source": [
        "get_ipython().system_raw('./ngrok http 8501 &')"
      ],
      "execution_count": null,
      "outputs": []
    },
    {
      "cell_type": "code",
      "metadata": {
        "colab": {
          "base_uri": "https://localhost:8080/"
        },
        "id": "g_7GsgLJFZQU",
        "outputId": "8e108429-9075-48fd-a570-f8172186e158"
      },
      "source": [
        "!curl -s http://localhost:4040/api/tunnels | python3 -c \\\n",
        "    'import sys, json; print(\"Execute the next cell and the go to the following URL: \" +json.load(sys.stdin)[\"tunnels\"][0][\"public_url\"])'"
      ],
      "execution_count": null,
      "outputs": [
        {
          "output_type": "stream",
          "text": [
            "Execute the next cell and the go to the following URL: https://15766b2f3201.ngrok.io\n"
          ],
          "name": "stdout"
        }
      ]
    },
    {
      "cell_type": "code",
      "metadata": {
        "colab": {
          "base_uri": "https://localhost:8080/"
        },
        "id": "XPpx9qPkFfFo",
        "outputId": "7698bcd1-4bba-420c-eb68-8c923c17c434"
      },
      "source": [
        "!streamlit run /content/app.py"
      ],
      "execution_count": null,
      "outputs": [
        {
          "output_type": "stream",
          "text": [
            "\u001b[0m\n",
            "\u001b[34m\u001b[1m  You can now view your Streamlit app in your browser.\u001b[0m\n",
            "\u001b[0m\n",
            "\u001b[34m  Network URL: \u001b[0m\u001b[1mhttp://172.28.0.2:8501\u001b[0m\n",
            "\u001b[34m  External URL: \u001b[0m\u001b[1mhttp://34.125.223.82:8501\u001b[0m\n",
            "\u001b[0m\n",
            "\u001b[34m  Stopping...\u001b[0m\n"
          ],
          "name": "stdout"
        }
      ]
    },
    {
      "cell_type": "code",
      "metadata": {
        "id": "_2R_y8vRF0gl"
      },
      "source": [
        "birth_date = st.date_input(\"Date of Birth\", min_value=datetime.date(1921, 1, 1),\n",
        "                           max_value=datetime.date(2010, 12, 31))\n",
        "smoke = st.checkbox(\"Do you smoke?\")\n",
        "genre = st.radio(\"Which movie genre do you like?\",\n",
        "                 options=['horror', 'adventure', 'romantic'])\n",
        "weight = st.slider(\"Choose your weight\", min_value=40., max_value=150., step=0.5)\n",
        "physical_form = st.selectbox(\"Select level of your physical condition\",\n",
        "                             options=[\"Bad\", \"Normal\", \"Good\"])\n",
        "colors = st.multiselect('What are your favorite colors',\n",
        "                        options=['Green', 'Yellow', 'Red', 'Blue', 'Pink'])"
      ],
      "execution_count": null,
      "outputs": []
    },
    {
      "cell_type": "code",
      "metadata": {
        "colab": {
          "base_uri": "https://localhost:8080/",
          "height": 232
        },
        "id": "104qPsAIGEf-",
        "outputId": "652e162d-3370-4e76-efda-fbc1c65ec937"
      },
      "source": [
        "click = st.sidebar.button('Click me!')\n",
        "if click:\n",
        "    st.sidebar.write(\"You clicked the button\")\n",
        "submit = st.button(\"Submit\")\n",
        "if submit:\n",
        "    st.write(\"You submitted the form\")\n",
        "    st.write(f\"Your ID : {user_id},\")\n",
        "    st.write(f\"Short information : '{info}',\")\n",
        "    st.write(f\"Your age is : {age},\")\n",
        "    st.write(f\"Your birt-date : {birth_date},\")\n",
        "    st.write(f\"Genre you seleced : {genre},\")\n",
        "    st.write(f\"Your weight : {weight},\")\n",
        "    st.write(f\"Your current physical condition : {physical_form},\")\n",
        "    st.write(f\"Your favorite Colors : {colors}\")"
      ],
      "execution_count": null,
      "outputs": [
        {
          "output_type": "error",
          "ename": "NameError",
          "evalue": "ignored",
          "traceback": [
            "\u001b[0;31m---------------------------------------------------------------------------\u001b[0m",
            "\u001b[0;31mNameError\u001b[0m                                 Traceback (most recent call last)",
            "\u001b[0;32m<ipython-input-15-2f38b800bc46>\u001b[0m in \u001b[0;36m<module>\u001b[0;34m()\u001b[0m\n\u001b[0;32m----> 1\u001b[0;31m \u001b[0mclick\u001b[0m \u001b[0;34m=\u001b[0m \u001b[0mst\u001b[0m\u001b[0;34m.\u001b[0m\u001b[0msidebar\u001b[0m\u001b[0;34m.\u001b[0m\u001b[0mbutton\u001b[0m\u001b[0;34m(\u001b[0m\u001b[0;34m'Click me!'\u001b[0m\u001b[0;34m)\u001b[0m\u001b[0;34m\u001b[0m\u001b[0;34m\u001b[0m\u001b[0m\n\u001b[0m\u001b[1;32m      2\u001b[0m \u001b[0;32mif\u001b[0m \u001b[0mclick\u001b[0m\u001b[0;34m:\u001b[0m\u001b[0;34m\u001b[0m\u001b[0;34m\u001b[0m\u001b[0m\n\u001b[1;32m      3\u001b[0m     \u001b[0mst\u001b[0m\u001b[0;34m.\u001b[0m\u001b[0msidebar\u001b[0m\u001b[0;34m.\u001b[0m\u001b[0mwrite\u001b[0m\u001b[0;34m(\u001b[0m\u001b[0;34m\"You clicked the button\"\u001b[0m\u001b[0;34m)\u001b[0m\u001b[0;34m\u001b[0m\u001b[0;34m\u001b[0m\u001b[0m\n\u001b[1;32m      4\u001b[0m \u001b[0msubmit\u001b[0m \u001b[0;34m=\u001b[0m \u001b[0mst\u001b[0m\u001b[0;34m.\u001b[0m\u001b[0mbutton\u001b[0m\u001b[0;34m(\u001b[0m\u001b[0;34m\"Submit\"\u001b[0m\u001b[0;34m)\u001b[0m\u001b[0;34m\u001b[0m\u001b[0;34m\u001b[0m\u001b[0m\n\u001b[1;32m      5\u001b[0m \u001b[0;32mif\u001b[0m \u001b[0msubmit\u001b[0m\u001b[0;34m:\u001b[0m\u001b[0;34m\u001b[0m\u001b[0;34m\u001b[0m\u001b[0m\n",
            "\u001b[0;31mNameError\u001b[0m: name 'st' is not defined"
          ]
        }
      ]
    }
  ]
}