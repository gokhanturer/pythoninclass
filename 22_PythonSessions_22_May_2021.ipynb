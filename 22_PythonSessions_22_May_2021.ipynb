{
  "nbformat": 4,
  "nbformat_minor": 0,
  "metadata": {
    "kernelspec": {
      "display_name": "Python 3",
      "language": "python",
      "name": "python3"
    },
    "language_info": {
      "codemirror_mode": {
        "name": "ipython",
        "version": 3
      },
      "file_extension": ".py",
      "mimetype": "text/x-python",
      "name": "python",
      "nbconvert_exporter": "python",
      "pygments_lexer": "ipython3",
      "version": "3.7.3"
    },
    "colab": {
      "name": "22_PythonSessions-22-May-2021.ipynb",
      "provenance": [],
      "include_colab_link": true
    }
  },
  "cells": [
    {
      "cell_type": "markdown",
      "metadata": {
        "id": "view-in-github",
        "colab_type": "text"
      },
      "source": [
        "<a href=\"https://colab.research.google.com/github/gokhanturer/pythoninclass/blob/main/22_PythonSessions_22_May_2021.ipynb\" target=\"_parent\"><img src=\"https://colab.research.google.com/assets/colab-badge.svg\" alt=\"Open In Colab\"/></a>"
      ]
    },
    {
      "cell_type": "code",
      "metadata": {
        "id": "dp94EjjhzHhh"
      },
      "source": [
        "fruits = [\"banana\", \"mango\", \"pear\", \"apple\", \"kiwi\", \"grape\"]"
      ],
      "execution_count": null,
      "outputs": []
    },
    {
      "cell_type": "code",
      "metadata": {
        "id": "JqcydwASzHhi",
        "outputId": "1166eecb-8b3a-486f-ca3a-f5f72fbec070"
      },
      "source": [
        "while True :\n",
        "    \n",
        "    try :\n",
        "        index = int(input(\"Favori meyve indexini girer misin? : \"))\n",
        "        print(\"Benim favori meyvem {}'dir.\".format(fruits[index]))\n",
        "        break\n",
        "    \n",
        "    except IndexError :\n",
        "        print(\"Böyle bir index bulunmamaktadır. Lütfen doğru giriş yapınız.\")\n",
        "        \n",
        "    except ValueError :\n",
        "        print(\"Integer yani numeric bir değer giriniz. Tekrar deneyin.\")"
      ],
      "execution_count": null,
      "outputs": [
        {
          "output_type": "stream",
          "text": [
            "Favori meyve indexini girer misin? : 7\n",
            "Böyle bir index bulunmamaktadır. Lütfen doğru giriş yapınız.\n",
            "Favori meyve indexini girer misin? : iki\n",
            "Integer yani numeric bir değer giriniz. Tekrar deneyin.\n",
            "Favori meyve indexini girer misin? : 1\n",
            "Benim favori meyvem mango'dir.\n"
          ],
          "name": "stdout"
        }
      ]
    },
    {
      "cell_type": "code",
      "metadata": {
        "id": "3aZzWFl3zHhk",
        "outputId": "f4e42352-14fc-409f-b537-ff1fabc5fee4"
      },
      "source": [
        "count = 3\n",
        "\n",
        "while count > 0 :\n",
        "    \n",
        "    try :\n",
        "        index = int(input(\"Favori meyve indexini girer misin? : \"))\n",
        "        print(\"Benim favori meyvem {}'dir.\".format(fruits[index]))\n",
        "    \n",
        "    except IndexError :\n",
        "        count -= 1\n",
        "        print(f\"Böyle bir index bulunmamaktadır. {count} adet giriş hakkınız kaldı. Lütfen doğru giriş yapınız.\")\n",
        "        \n",
        "    except ValueError :\n",
        "        count -= 1\n",
        "        print(f\"Integer yani numeric bir değer giriniz. {count} adet giriş hakkınız kaldı. Tekrar deneyin.\")\n",
        "        \n",
        "    else :\n",
        "        print(\"Tebrikler.. Doğru giriş yaptınız.\")\n",
        "        break\n",
        "        \n",
        "    finally :\n",
        "        print(\"Meyvelerim tazedir. Afiyet ossun.\")"
      ],
      "execution_count": null,
      "outputs": [
        {
          "output_type": "stream",
          "text": [
            "Favori meyve indexini girer misin? : 2\n",
            "Benim favori meyvem pear'dir.\n",
            "Tebrikler.. Doğru giriş yaptınız.\n",
            "Meyvelerim tazedir. Afiyet ossun.\n"
          ],
          "name": "stdout"
        }
      ]
    },
    {
      "cell_type": "code",
      "metadata": {
        "id": "VcV9KWUAzHhl",
        "outputId": "dc97e96f-e543-4f04-f41a-4991b31d6a66"
      },
      "source": [
        "pwd"
      ],
      "execution_count": null,
      "outputs": [
        {
          "output_type": "execute_result",
          "data": {
            "text/plain": [
              "'C:\\\\Users\\\\YD\\\\pythonic\\\\PythonSessions\\\\Cohort-008-PythonSessions'"
            ]
          },
          "metadata": {
            "tags": []
          },
          "execution_count": 5
        }
      ]
    },
    {
      "cell_type": "code",
      "metadata": {
        "id": "wxFBTybozHhl",
        "outputId": "4c211ca9-6301-4c57-e4df-4212d49a433e"
      },
      "source": [
        "sea = open(\"C:\\\\Users\\\\YD\\\\pythonic\\\\fishes.txt\", \"r\")\n",
        "\n",
        "print(sea.read())\n",
        "\n",
        "sea.close()"
      ],
      "execution_count": null,
      "outputs": [
        {
          "output_type": "stream",
          "text": [
            "Orca is a kind of Dolphin.\n",
            "Blue Whale is the largest animal known on earth.\n",
            "Sharks are the sister group to the Rays (batoids).\n",
            "The Tuna Fish can weigh up to 260 kg.\n",
            "Squid and Octopus are in the same class.\n"
          ],
          "name": "stdout"
        }
      ]
    },
    {
      "cell_type": "code",
      "metadata": {
        "id": "oNgwrzoXzHhm",
        "outputId": "aff5ef22-d4be-4a55-8e25-ed21564dc642"
      },
      "source": [
        "sea = open(\"C:\\\\Users\\\\YD\\\\pythonic\\\\fishes.txt\", \"r\")\n",
        "\n",
        "print(sea.read(33))\n",
        "\n",
        "sea.close()"
      ],
      "execution_count": null,
      "outputs": [
        {
          "output_type": "stream",
          "text": [
            "Orca is a kind of Dolphin.\n",
            "Blue W\n"
          ],
          "name": "stdout"
        }
      ]
    },
    {
      "cell_type": "code",
      "metadata": {
        "id": "Pokh3c5_zHhm",
        "outputId": "81ffada8-8d2c-4606-9d4d-e26f56c70af3"
      },
      "source": [
        "sea = open(\"C:\\\\Users\\\\YD\\\\pythonic\\\\fishes.txt\", \"r\")\n",
        "\n",
        "print(sea.read(33))\n",
        "print(sea.read(33))\n",
        "\n",
        "sea.close()"
      ],
      "execution_count": null,
      "outputs": [
        {
          "output_type": "stream",
          "text": [
            "Orca is a kind of Dolphin.\n",
            "Blue W\n",
            "hale is the largest animal known \n"
          ],
          "name": "stdout"
        }
      ]
    },
    {
      "cell_type": "code",
      "metadata": {
        "id": "v-qGmkmGzHhn",
        "outputId": "89b552f1-72e0-4b05-fd30-1563d4fb658d"
      },
      "source": [
        "sea = open(\"C:\\\\Users\\\\YD\\\\pythonic\\\\fishes.txt\", \"r\")\n",
        "\n",
        "print(sea.read(33))\n",
        "print(sea.read(33))\n",
        "sea.seek(0)\n",
        "print(sea.read(33))\n",
        "\n",
        "sea.close()"
      ],
      "execution_count": null,
      "outputs": [
        {
          "output_type": "stream",
          "text": [
            "Orca is a kind of Dolphin.\n",
            "Blue W\n",
            "hale is the largest animal known \n",
            "Orca is a kind of Dolphin.\n",
            "Blue W\n"
          ],
          "name": "stdout"
        }
      ]
    },
    {
      "cell_type": "code",
      "metadata": {
        "id": "1F4vFG6vzHhn",
        "outputId": "82e91593-3d2e-4cc5-8925-501f57aaea01"
      },
      "source": [
        "sea = open(\"C:\\\\Users\\\\YD\\\\pythonic\\\\fishes.txt\", \"r\")\n",
        "\n",
        "print(sea.read(33))\n",
        "print(sea.read(33))\n",
        "sea.seek(0)\n",
        "print(sea.read(33))\n",
        "print(sea.tell())\n",
        "\n",
        "sea.close()"
      ],
      "execution_count": null,
      "outputs": [
        {
          "output_type": "stream",
          "text": [
            "Orca is a kind of Dolphin.\n",
            "Blue W\n",
            "hale is the largest animal known \n",
            "Orca is a kind of Dolphin.\n",
            "Blue W\n",
            "34\n"
          ],
          "name": "stdout"
        }
      ]
    },
    {
      "cell_type": "code",
      "metadata": {
        "id": "FiV-5qrxzHhn",
        "outputId": "a1738c0e-5c22-4b45-ec1c-3b543f89045f"
      },
      "source": [
        "rumi = open(\"C:\\\\Users\\\\YD\\\\pythonic\\\\rumi.txt\", \"r\")\n",
        "\n",
        "print(rumi.read(35))\n",
        "print(rumi.read(13))\n",
        "print(rumi.tell())\n",
        "rumi.seek(15)\n",
        "print(rumi.read(21))\n",
        "\n",
        "\n",
        "rumi.close()"
      ],
      "execution_count": null,
      "outputs": [
        {
          "output_type": "stream",
          "text": [
            "I want to sing\n",
            "Like the birds sing,\n",
            "\n",
            "Not worrying\n",
            "50\n",
            "\n",
            "Like the birds sing,\n"
          ],
          "name": "stdout"
        }
      ]
    },
    {
      "cell_type": "code",
      "metadata": {
        "id": "oP3_GthLzHho",
        "outputId": "ef84f28a-30a8-4217-92aa-7d26eb47d87f"
      },
      "source": [
        "sea = open(\"C:\\\\Users\\\\YD\\\\pythonic\\\\fishes.txt\", \"r\")\n",
        "\n",
        "print(sea.readline())\n",
        "\n",
        "sea.close()"
      ],
      "execution_count": null,
      "outputs": [
        {
          "output_type": "stream",
          "text": [
            "Orca is a kind of Dolphin.\n",
            "\n"
          ],
          "name": "stdout"
        }
      ]
    },
    {
      "cell_type": "code",
      "metadata": {
        "id": "PLudc5jGzHho",
        "outputId": "6b32373c-7e76-4269-e5fa-fa24b3ca8fc5"
      },
      "source": [
        "sea = open(\"C:\\\\Users\\\\YD\\\\pythonic\\\\fishes.txt\", \"r\")\n",
        "\n",
        "print(sea.readline())\n",
        "print(sea.readline())\n",
        "print(sea.readline())\n",
        "print(sea.readline())\n",
        "\n",
        "sea.close()"
      ],
      "execution_count": null,
      "outputs": [
        {
          "output_type": "stream",
          "text": [
            "Orca is a kind of Dolphin.\n",
            "\n",
            "Blue Whale is the largest animal known on earth.\n",
            "\n",
            "Sharks are the sister group to the Rays (batoids).\n",
            "\n",
            "The Tuna Fish can weigh up to 260 kg.\n",
            "\n"
          ],
          "name": "stdout"
        }
      ]
    },
    {
      "cell_type": "code",
      "metadata": {
        "id": "DRlcDFuzzHhp",
        "outputId": "7b9d1b24-ce1b-4466-9197-65c421578561"
      },
      "source": [
        "sea = open(\"C:\\\\Users\\\\YD\\\\pythonic\\\\fishes.txt\", \"r\")\n",
        "\n",
        "print(sea.readline(13))\n",
        "print(sea.readline(13))\n",
        "print(sea.readline(13))\n",
        "print(sea.readline(13))\n",
        "\n",
        "sea.close()"
      ],
      "execution_count": null,
      "outputs": [
        {
          "output_type": "stream",
          "text": [
            "Orca is a kin\n",
            "d of Dolphin.\n",
            "\n",
            "\n",
            "Blue Whale is\n"
          ],
          "name": "stdout"
        }
      ]
    },
    {
      "cell_type": "code",
      "metadata": {
        "id": "K_H8jpP_zHhp",
        "outputId": "68099d6f-109d-40e9-9393-f00b70471a26"
      },
      "source": [
        "sea = open(\"C:\\\\Users\\\\YD\\\\pythonic\\\\fishes.txt\", \"r\")\n",
        "\n",
        "print(sea.readline(13))\n",
        "print(sea.readline(13))\n",
        "print(sea.readline())\n",
        "print(sea.readline(13))\n",
        "\n",
        "sea.close()"
      ],
      "execution_count": null,
      "outputs": [
        {
          "output_type": "stream",
          "text": [
            "Orca is a kin\n",
            "d of Dolphin.\n",
            "\n",
            "\n",
            "Blue Whale is\n"
          ],
          "name": "stdout"
        }
      ]
    },
    {
      "cell_type": "code",
      "metadata": {
        "id": "AEPZE8TZzHhp",
        "outputId": "55f6fbe3-0ed8-4438-cdff-5bf0b86db6b0"
      },
      "source": [
        "rumi = open(\"C:\\\\Users\\\\YD\\\\pythonic\\\\rumi.txt\", \"r\")\n",
        "\n",
        "print(rumi.readline())\n",
        "print(rumi.readline())\n",
        "print(rumi.readline(19))\n",
        "\n",
        "rumi.close()"
      ],
      "execution_count": null,
      "outputs": [
        {
          "output_type": "stream",
          "text": [
            "I want to sing\n",
            "\n",
            "Like the birds sing,\n",
            "\n",
            "Not worrying about\n",
            "\n"
          ],
          "name": "stdout"
        }
      ]
    },
    {
      "cell_type": "code",
      "metadata": {
        "id": "rGzpUIpRzHhq",
        "outputId": "830b03a3-1372-45bf-f5a9-52dde96bc2fa"
      },
      "source": [
        "rumi = open(\"C:\\\\Users\\\\YD\\\\pythonic\\\\rumi.txt\", \"r\")\n",
        "\n",
        "for line in rumi:\n",
        "    print(line)\n",
        "\n",
        "rumi.close()"
      ],
      "execution_count": null,
      "outputs": [
        {
          "output_type": "stream",
          "text": [
            "I want to sing\n",
            "\n",
            "Like the birds sing,\n",
            "\n",
            "Not worrying about\n",
            "\n",
            "Who hears or\n",
            "\n",
            "What they think.\n"
          ],
          "name": "stdout"
        }
      ]
    },
    {
      "cell_type": "code",
      "metadata": {
        "id": "jgVMlsqwzHhq",
        "outputId": "b73a1d03-6b40-4d35-af48-7711e154f438"
      },
      "source": [
        "rumi = open(\"C:\\\\Users\\\\YD\\\\pythonic\\\\rumi.txt\", \"r\")\n",
        "\n",
        "for line in rumi.readlines():\n",
        "    print(line)\n",
        "\n",
        "rumi.close()"
      ],
      "execution_count": null,
      "outputs": [
        {
          "output_type": "stream",
          "text": [
            "I want to sing\n",
            "\n",
            "Like the birds sing,\n",
            "\n",
            "Not worrying about\n",
            "\n",
            "Who hears or\n",
            "\n",
            "What they think.\n"
          ],
          "name": "stdout"
        }
      ]
    },
    {
      "cell_type": "code",
      "metadata": {
        "id": "1D_QjxpGzHhq",
        "outputId": "48aeb79f-7d59-4c5c-cc1f-bc7b29f9cf0d"
      },
      "source": [
        "with open(\"C:\\\\Users\\\\YD\\\\pythonic\\\\fishes.txt\", \"r\") as sea :\n",
        "    print(sea.read())"
      ],
      "execution_count": null,
      "outputs": [
        {
          "output_type": "stream",
          "text": [
            "Orca is a kind of Dolphin.\n",
            "Blue Whale is the largest animal known on earth.\n",
            "Sharks are the sister group to the Rays (batoids).\n",
            "The Tuna Fish can weigh up to 260 kg.\n",
            "Squid and Octopus are in the same class.\n"
          ],
          "name": "stdout"
        }
      ]
    },
    {
      "cell_type": "code",
      "metadata": {
        "id": "F7WPWcfczHhr",
        "outputId": "48d72597-e614-4262-d99c-dadd93f2c6f7"
      },
      "source": [
        "with open(\"C:\\\\Users\\\\YD\\\\pythonic\\\\fishes.txt\", \"r\") as sea :\n",
        "    print(sea.read(33))\n",
        "    print(sea.read(33))\n",
        "    sea.seek(0)\n",
        "    print(sea.read(33))\n",
        "    print(sea.tell())"
      ],
      "execution_count": null,
      "outputs": [
        {
          "output_type": "stream",
          "text": [
            "Orca is a kind of Dolphin.\n",
            "Blue W\n",
            "hale is the largest animal known \n",
            "Orca is a kind of Dolphin.\n",
            "Blue W\n",
            "34\n"
          ],
          "name": "stdout"
        }
      ]
    },
    {
      "cell_type": "code",
      "metadata": {
        "id": "E2JRhReIzHhr"
      },
      "source": [
        "with open(\"benim_ilk_dosyam.txt\", \"w\", encoding = \"utf-8\") as dosyam :\n",
        "    dosyam.write(\"bu benim ilk satırım.\")"
      ],
      "execution_count": null,
      "outputs": []
    },
    {
      "cell_type": "code",
      "metadata": {
        "id": "7oYS_ZP1zHhr",
        "outputId": "f531cd6a-7c36-43c8-f9cf-c9159a88f5e2"
      },
      "source": [
        "with open(\"benim_ilk_dosyam.txt\", \"r\", encoding = \"utf-8\") as dosyam :\n",
        "    print(dosyam.read())"
      ],
      "execution_count": null,
      "outputs": [
        {
          "output_type": "stream",
          "text": [
            "bu benim ilk satırım.\n"
          ],
          "name": "stdout"
        }
      ]
    },
    {
      "cell_type": "code",
      "metadata": {
        "id": "x_GQx3dCzHhs"
      },
      "source": [
        "with open(\"benim_ilk_dosyam.txt\", \"w\", encoding = \"utf-8\") as dosyam :\n",
        "    dosyam.write(\"bu benim ilk satırım. amma aslında ikinci satırım.\\n\")"
      ],
      "execution_count": null,
      "outputs": []
    },
    {
      "cell_type": "code",
      "metadata": {
        "id": "i0ZzKimmzHhs"
      },
      "source": [
        "with open(\"benim_ilk_dosyam.txt\", \"w\", encoding = \"utf-8\") as dosyam :\n",
        "    dosyam.write(\"bu benim ilk satırım.\\namma aslında ikinci satırım.\\nBu da benim üçüncü satırım.\")"
      ],
      "execution_count": null,
      "outputs": []
    },
    {
      "cell_type": "code",
      "metadata": {
        "id": "dAR-SekozHhs"
      },
      "source": [
        "fruits =[\"Banana\", \"Orange\", \"Apple\", \"Strawberry\", \"Cherry\"]"
      ],
      "execution_count": null,
      "outputs": []
    },
    {
      "cell_type": "code",
      "metadata": {
        "id": "UZ30qDOIzHhs"
      },
      "source": [
        "with open(\"fruits.txt\", \"w\", encoding=\"utf-8\") as file :\n",
        "    for meyve in fruits :\n",
        "        file.write(meyve + \"\\n\")"
      ],
      "execution_count": null,
      "outputs": []
    },
    {
      "cell_type": "code",
      "metadata": {
        "id": "oQsxFsPGzHht"
      },
      "source": [
        ""
      ],
      "execution_count": null,
      "outputs": []
    }
  ]
}